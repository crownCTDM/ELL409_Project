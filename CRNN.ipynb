{
 "cells": [
  {
   "cell_type": "markdown",
   "metadata": {},
   "source": [
    "# imports"
   ]
  },
  {
   "cell_type": "code",
   "execution_count": 1,
   "metadata": {
    "_cell_guid": "79c7e3d0-c299-4dcb-8224-4455121ee9b0",
    "_uuid": "d629ff2d2480ee46fbb7e2d37f6b5fab8052498a",
    "execution": {
     "iopub.execute_input": "2024-11-24T08:14:40.052657Z",
     "iopub.status.busy": "2024-11-24T08:14:40.052317Z",
     "iopub.status.idle": "2024-11-24T08:14:45.204600Z",
     "shell.execute_reply": "2024-11-24T08:14:45.203983Z",
     "shell.execute_reply.started": "2024-11-24T08:14:40.052626Z"
    },
    "trusted": true
   },
   "outputs": [],
   "source": [
    "import os\n",
    "import cv2\n",
    "import random\n",
    "import numpy as np\n",
    "import pandas as pd\n",
    "import matplotlib.pyplot as plt\n",
    "\n",
    "import tensorflow as tf\n",
    "from keras import backend as K\n",
    "from keras.models import Model\n",
    "from keras.layers import Input, Conv2D, MaxPooling2D, Reshape, Bidirectional, LSTM, Dense, Lambda, Activation, BatchNormalization, Dropout\n",
    "from keras.optimizers import Adam"
   ]
  },
  {
   "cell_type": "code",
   "execution_count": 2,
   "metadata": {
    "execution": {
     "iopub.execute_input": "2024-11-24T08:14:45.206712Z",
     "iopub.status.busy": "2024-11-24T08:14:45.206364Z",
     "iopub.status.idle": "2024-11-24T08:14:45.631464Z",
     "shell.execute_reply": "2024-11-24T08:14:45.630537Z",
     "shell.execute_reply.started": "2024-11-24T08:14:45.206676Z"
    },
    "trusted": true
   },
   "outputs": [
    {
     "name": "stdout",
     "output_type": "stream",
     "text": [
      "GPU Available:  [PhysicalDevice(name='/physical_device:GPU:0', device_type='GPU')]\n"
     ]
    }
   ],
   "source": [
    "print(\"GPU Available: \", tf.config.list_physical_devices('GPU'))"
   ]
  },
  {
   "cell_type": "markdown",
   "metadata": {},
   "source": [
    "## import data"
   ]
  },
  {
   "cell_type": "code",
   "execution_count": 3,
   "metadata": {
    "execution": {
     "iopub.execute_input": "2024-11-24T08:14:45.632718Z",
     "iopub.status.busy": "2024-11-24T08:14:45.632456Z",
     "iopub.status.idle": "2024-11-24T08:14:46.032654Z",
     "shell.execute_reply": "2024-11-24T08:14:46.032027Z",
     "shell.execute_reply.started": "2024-11-24T08:14:45.632692Z"
    },
    "trusted": true
   },
   "outputs": [],
   "source": [
    "train = pd.read_csv('/kaggle/input/handwriting-recognition/written_name_train_v2.csv')\n",
    "valid = pd.read_csv('/kaggle/input/handwriting-recognition/written_name_validation_v2.csv')"
   ]
  },
  {
   "cell_type": "code",
   "execution_count": 4,
   "metadata": {
    "execution": {
     "iopub.execute_input": "2024-11-24T08:14:46.033990Z",
     "iopub.status.busy": "2024-11-24T08:14:46.033768Z",
     "iopub.status.idle": "2024-11-24T08:14:46.051788Z",
     "shell.execute_reply": "2024-11-24T08:14:46.051013Z",
     "shell.execute_reply.started": "2024-11-24T08:14:46.033966Z"
    },
    "trusted": true
   },
   "outputs": [
    {
     "data": {
      "text/html": [
       "<div>\n",
       "<style scoped>\n",
       "    .dataframe tbody tr th:only-of-type {\n",
       "        vertical-align: middle;\n",
       "    }\n",
       "\n",
       "    .dataframe tbody tr th {\n",
       "        vertical-align: top;\n",
       "    }\n",
       "\n",
       "    .dataframe thead th {\n",
       "        text-align: right;\n",
       "    }\n",
       "</style>\n",
       "<table border=\"1\" class=\"dataframe\">\n",
       "  <thead>\n",
       "    <tr style=\"text-align: right;\">\n",
       "      <th></th>\n",
       "      <th>FILENAME</th>\n",
       "      <th>IDENTITY</th>\n",
       "    </tr>\n",
       "  </thead>\n",
       "  <tbody>\n",
       "    <tr>\n",
       "      <th>0</th>\n",
       "      <td>TRAIN_00001.jpg</td>\n",
       "      <td>BALTHAZAR</td>\n",
       "    </tr>\n",
       "    <tr>\n",
       "      <th>1</th>\n",
       "      <td>TRAIN_00002.jpg</td>\n",
       "      <td>SIMON</td>\n",
       "    </tr>\n",
       "    <tr>\n",
       "      <th>2</th>\n",
       "      <td>TRAIN_00003.jpg</td>\n",
       "      <td>BENES</td>\n",
       "    </tr>\n",
       "    <tr>\n",
       "      <th>3</th>\n",
       "      <td>TRAIN_00004.jpg</td>\n",
       "      <td>LA LOVE</td>\n",
       "    </tr>\n",
       "    <tr>\n",
       "      <th>4</th>\n",
       "      <td>TRAIN_00005.jpg</td>\n",
       "      <td>DAPHNE</td>\n",
       "    </tr>\n",
       "    <tr>\n",
       "      <th>...</th>\n",
       "      <td>...</td>\n",
       "      <td>...</td>\n",
       "    </tr>\n",
       "    <tr>\n",
       "      <th>330956</th>\n",
       "      <td>TRAIN_330957.jpg</td>\n",
       "      <td>LENNY</td>\n",
       "    </tr>\n",
       "    <tr>\n",
       "      <th>330957</th>\n",
       "      <td>TRAIN_330958.jpg</td>\n",
       "      <td>TIFFANY</td>\n",
       "    </tr>\n",
       "    <tr>\n",
       "      <th>330958</th>\n",
       "      <td>TRAIN_330959.jpg</td>\n",
       "      <td>COUTINHO DESA</td>\n",
       "    </tr>\n",
       "    <tr>\n",
       "      <th>330959</th>\n",
       "      <td>TRAIN_330960.jpg</td>\n",
       "      <td>MOURAD</td>\n",
       "    </tr>\n",
       "    <tr>\n",
       "      <th>330960</th>\n",
       "      <td>TRAIN_330961.jpg</td>\n",
       "      <td>HELOISE</td>\n",
       "    </tr>\n",
       "  </tbody>\n",
       "</table>\n",
       "<p>330961 rows × 2 columns</p>\n",
       "</div>"
      ],
      "text/plain": [
       "                FILENAME       IDENTITY\n",
       "0        TRAIN_00001.jpg      BALTHAZAR\n",
       "1        TRAIN_00002.jpg          SIMON\n",
       "2        TRAIN_00003.jpg          BENES\n",
       "3        TRAIN_00004.jpg        LA LOVE\n",
       "4        TRAIN_00005.jpg         DAPHNE\n",
       "...                  ...            ...\n",
       "330956  TRAIN_330957.jpg          LENNY\n",
       "330957  TRAIN_330958.jpg        TIFFANY\n",
       "330958  TRAIN_330959.jpg  COUTINHO DESA\n",
       "330959  TRAIN_330960.jpg         MOURAD\n",
       "330960  TRAIN_330961.jpg        HELOISE\n",
       "\n",
       "[330961 rows x 2 columns]"
      ]
     },
     "execution_count": 4,
     "metadata": {},
     "output_type": "execute_result"
    }
   ],
   "source": [
    "train"
   ]
  },
  {
   "cell_type": "code",
   "execution_count": 5,
   "metadata": {
    "execution": {
     "iopub.execute_input": "2024-11-24T08:14:46.054850Z",
     "iopub.status.busy": "2024-11-24T08:14:46.054620Z",
     "iopub.status.idle": "2024-11-24T08:14:46.063737Z",
     "shell.execute_reply": "2024-11-24T08:14:46.062958Z",
     "shell.execute_reply.started": "2024-11-24T08:14:46.054827Z"
    },
    "trusted": true
   },
   "outputs": [
    {
     "data": {
      "text/html": [
       "<div>\n",
       "<style scoped>\n",
       "    .dataframe tbody tr th:only-of-type {\n",
       "        vertical-align: middle;\n",
       "    }\n",
       "\n",
       "    .dataframe tbody tr th {\n",
       "        vertical-align: top;\n",
       "    }\n",
       "\n",
       "    .dataframe thead th {\n",
       "        text-align: right;\n",
       "    }\n",
       "</style>\n",
       "<table border=\"1\" class=\"dataframe\">\n",
       "  <thead>\n",
       "    <tr style=\"text-align: right;\">\n",
       "      <th></th>\n",
       "      <th>FILENAME</th>\n",
       "      <th>IDENTITY</th>\n",
       "    </tr>\n",
       "  </thead>\n",
       "  <tbody>\n",
       "    <tr>\n",
       "      <th>0</th>\n",
       "      <td>VALIDATION_0001.jpg</td>\n",
       "      <td>BILEL</td>\n",
       "    </tr>\n",
       "    <tr>\n",
       "      <th>1</th>\n",
       "      <td>VALIDATION_0002.jpg</td>\n",
       "      <td>LAUMIONIER</td>\n",
       "    </tr>\n",
       "    <tr>\n",
       "      <th>2</th>\n",
       "      <td>VALIDATION_0003.jpg</td>\n",
       "      <td>LEA</td>\n",
       "    </tr>\n",
       "    <tr>\n",
       "      <th>3</th>\n",
       "      <td>VALIDATION_0004.jpg</td>\n",
       "      <td>JEAN-ROCH</td>\n",
       "    </tr>\n",
       "    <tr>\n",
       "      <th>4</th>\n",
       "      <td>VALIDATION_0005.jpg</td>\n",
       "      <td>RUPP</td>\n",
       "    </tr>\n",
       "    <tr>\n",
       "      <th>...</th>\n",
       "      <td>...</td>\n",
       "      <td>...</td>\n",
       "    </tr>\n",
       "    <tr>\n",
       "      <th>41365</th>\n",
       "      <td>VALIDATION_41366.jpg</td>\n",
       "      <td>CHAILLAN</td>\n",
       "    </tr>\n",
       "    <tr>\n",
       "      <th>41366</th>\n",
       "      <td>VALIDATION_41367.jpg</td>\n",
       "      <td>BAROUH</td>\n",
       "    </tr>\n",
       "    <tr>\n",
       "      <th>41367</th>\n",
       "      <td>VALIDATION_41368.jpg</td>\n",
       "      <td>MAXENCE</td>\n",
       "    </tr>\n",
       "    <tr>\n",
       "      <th>41368</th>\n",
       "      <td>VALIDATION_41369.jpg</td>\n",
       "      <td>HAMELIN</td>\n",
       "    </tr>\n",
       "    <tr>\n",
       "      <th>41369</th>\n",
       "      <td>VALIDATION_41370.jpg</td>\n",
       "      <td>LOLA</td>\n",
       "    </tr>\n",
       "  </tbody>\n",
       "</table>\n",
       "<p>41370 rows × 2 columns</p>\n",
       "</div>"
      ],
      "text/plain": [
       "                   FILENAME    IDENTITY\n",
       "0       VALIDATION_0001.jpg       BILEL\n",
       "1       VALIDATION_0002.jpg  LAUMIONIER\n",
       "2       VALIDATION_0003.jpg         LEA\n",
       "3       VALIDATION_0004.jpg   JEAN-ROCH\n",
       "4       VALIDATION_0005.jpg        RUPP\n",
       "...                     ...         ...\n",
       "41365  VALIDATION_41366.jpg    CHAILLAN\n",
       "41366  VALIDATION_41367.jpg      BAROUH\n",
       "41367  VALIDATION_41368.jpg     MAXENCE\n",
       "41368  VALIDATION_41369.jpg     HAMELIN\n",
       "41369  VALIDATION_41370.jpg        LOLA\n",
       "\n",
       "[41370 rows x 2 columns]"
      ]
     },
     "execution_count": 5,
     "metadata": {},
     "output_type": "execute_result"
    }
   ],
   "source": [
    "valid"
   ]
  },
  {
   "cell_type": "code",
   "execution_count": 6,
   "metadata": {
    "execution": {
     "iopub.execute_input": "2024-11-24T08:14:46.066170Z",
     "iopub.status.busy": "2024-11-24T08:14:46.065951Z",
     "iopub.status.idle": "2024-11-24T08:14:46.380299Z",
     "shell.execute_reply": "2024-11-24T08:14:46.379507Z",
     "shell.execute_reply.started": "2024-11-24T08:14:46.066147Z"
    },
    "trusted": true
   },
   "outputs": [
    {
     "data": {
      "image/png": "[encoded data removed]",
      "text/plain": [
       "<Figure size 1080x720 with 6 Axes>"
      ]
     },
     "metadata": {
      "needs_background": "light"
     },
     "output_type": "display_data"
    }
   ],
   "source": [
    "plt.figure(figsize=(15, 10))\n",
    "\n",
    "for i in range(6):\n",
    "    ax = plt.subplot(2, 3, i+1)\n",
    "    img_dir = '/kaggle/input/handwriting-recognition/train_v2/train/'+train.loc[i, 'FILENAME']\n",
    "    image = cv2.imread(img_dir, cv2.IMREAD_GRAYSCALE)\n",
    "    plt.imshow(image, cmap = 'gray')\n",
    "    plt.title(train.loc[i, 'IDENTITY'], fontsize=12)\n",
    "    plt.axis('off')\n",
    "\n",
    "plt.subplots_adjust(wspace=0.2, hspace=-0.8)"
   ]
  },
  {
   "cell_type": "markdown",
   "metadata": {},
   "source": [
    "# cleaning data"
   ]
  },
  {
   "cell_type": "code",
   "execution_count": 7,
   "metadata": {
    "execution": {
     "iopub.execute_input": "2024-11-24T08:14:46.381367Z",
     "iopub.status.busy": "2024-11-24T08:14:46.381163Z",
     "iopub.status.idle": "2024-11-24T08:14:46.423154Z",
     "shell.execute_reply": "2024-11-24T08:14:46.422490Z",
     "shell.execute_reply.started": "2024-11-24T08:14:46.381347Z"
    },
    "trusted": true
   },
   "outputs": [
    {
     "name": "stdout",
     "output_type": "stream",
     "text": [
      "<class 'pandas.core.frame.DataFrame'>\n",
      "RangeIndex: 330961 entries, 0 to 330960\n",
      "Data columns (total 2 columns):\n",
      " #   Column    Non-Null Count   Dtype \n",
      "---  ------    --------------   ----- \n",
      " 0   FILENAME  330961 non-null  object\n",
      " 1   IDENTITY  330396 non-null  object\n",
      "dtypes: object(2)\n",
      "memory usage: 5.1+ MB\n"
     ]
    }
   ],
   "source": [
    "train.info()"
   ]
  },
  {
   "cell_type": "code",
   "execution_count": 8,
   "metadata": {
    "execution": {
     "iopub.execute_input": "2024-11-24T08:14:46.424360Z",
     "iopub.status.busy": "2024-11-24T08:14:46.424136Z",
     "iopub.status.idle": "2024-11-24T08:14:46.435554Z",
     "shell.execute_reply": "2024-11-24T08:14:46.434889Z",
     "shell.execute_reply.started": "2024-11-24T08:14:46.424337Z"
    },
    "trusted": true
   },
   "outputs": [
    {
     "name": "stdout",
     "output_type": "stream",
     "text": [
      "<class 'pandas.core.frame.DataFrame'>\n",
      "RangeIndex: 41370 entries, 0 to 41369\n",
      "Data columns (total 2 columns):\n",
      " #   Column    Non-Null Count  Dtype \n",
      "---  ------    --------------  ----- \n",
      " 0   FILENAME  41370 non-null  object\n",
      " 1   IDENTITY  41292 non-null  object\n",
      "dtypes: object(2)\n",
      "memory usage: 646.5+ KB\n"
     ]
    }
   ],
   "source": [
    "valid.info()"
   ]
  },
  {
   "cell_type": "code",
   "execution_count": 9,
   "metadata": {
    "execution": {
     "iopub.execute_input": "2024-11-24T08:14:46.436839Z",
     "iopub.status.busy": "2024-11-24T08:14:46.436613Z",
     "iopub.status.idle": "2024-11-24T08:14:46.463872Z",
     "shell.execute_reply": "2024-11-24T08:14:46.463195Z",
     "shell.execute_reply.started": "2024-11-24T08:14:46.436817Z"
    },
    "trusted": true
   },
   "outputs": [
    {
     "name": "stdout",
     "output_type": "stream",
     "text": [
      "Number of NaNs in train set      :  565\n",
      "Number of NaNs in validation set :  78\n"
     ]
    }
   ],
   "source": [
    "print(\"Number of NaNs in train set      : \", train['IDENTITY'].isnull().sum())\n",
    "print(\"Number of NaNs in validation set : \", valid['IDENTITY'].isnull().sum())"
   ]
  },
  {
   "cell_type": "code",
   "execution_count": 10,
   "metadata": {
    "execution": {
     "iopub.execute_input": "2024-11-24T08:14:46.465414Z",
     "iopub.status.busy": "2024-11-24T08:14:46.465104Z",
     "iopub.status.idle": "2024-11-24T08:14:46.660851Z",
     "shell.execute_reply": "2024-11-24T08:14:46.659687Z",
     "shell.execute_reply.started": "2024-11-24T08:14:46.465383Z"
    },
    "trusted": true
   },
   "outputs": [],
   "source": [
    "train.dropna(axis=0, inplace=True)\n",
    "valid.dropna(axis=0, inplace=True)"
   ]
  },
  {
   "cell_type": "code",
   "execution_count": 11,
   "metadata": {
    "execution": {
     "iopub.execute_input": "2024-11-24T08:14:46.662946Z",
     "iopub.status.busy": "2024-11-24T08:14:46.662601Z",
     "iopub.status.idle": "2024-11-24T08:14:46.959092Z",
     "shell.execute_reply": "2024-11-24T08:14:46.958280Z",
     "shell.execute_reply.started": "2024-11-24T08:14:46.662911Z"
    },
    "trusted": true
   },
   "outputs": [
    {
     "data": {
      "image/png": "[encoded data removed]",
      "text/plain": [
       "<Figure size 1080x720 with 6 Axes>"
      ]
     },
     "metadata": {
      "needs_background": "light"
     },
     "output_type": "display_data"
    }
   ],
   "source": [
    "unreadable = train[train['IDENTITY'] == 'UNREADABLE']\n",
    "unreadable.reset_index(inplace = True, drop=True)\n",
    "\n",
    "plt.figure(figsize=(15, 10))\n",
    "\n",
    "for i in range(6):\n",
    "    ax = plt.subplot(2, 3, i+1)\n",
    "    img_dir = '/kaggle/input/handwriting-recognition/train_v2/train/'+unreadable.loc[i, 'FILENAME']\n",
    "    image = cv2.imread(img_dir, cv2.IMREAD_GRAYSCALE)\n",
    "    plt.imshow(image, cmap = 'gray')\n",
    "    plt.title(unreadable.loc[i, 'IDENTITY'], fontsize=12)\n",
    "    plt.axis('off')\n",
    "\n",
    "plt.subplots_adjust(wspace=0.2, hspace=-0.8)"
   ]
  },
  {
   "cell_type": "code",
   "execution_count": 12,
   "metadata": {
    "execution": {
     "iopub.execute_input": "2024-11-24T08:14:46.960918Z",
     "iopub.status.busy": "2024-11-24T08:14:46.960559Z",
     "iopub.status.idle": "2024-11-24T08:14:46.999338Z",
     "shell.execute_reply": "2024-11-24T08:14:46.998770Z",
     "shell.execute_reply.started": "2024-11-24T08:14:46.960877Z"
    },
    "trusted": true
   },
   "outputs": [],
   "source": [
    "train = train[train['IDENTITY'] != 'UNREADABLE']\n",
    "valid = valid[valid['IDENTITY'] != 'UNREADABLE']"
   ]
  },
  {
   "cell_type": "code",
   "execution_count": 40,
   "metadata": {
    "execution": {
     "iopub.execute_input": "2024-11-24T08:52:28.377115Z",
     "iopub.status.busy": "2024-11-24T08:52:28.376905Z",
     "iopub.status.idle": "2024-11-24T08:52:28.586648Z",
     "shell.execute_reply": "2024-11-24T08:52:28.585781Z",
     "shell.execute_reply.started": "2024-11-24T08:52:28.377092Z"
    },
    "trusted": true
   },
   "outputs": [
    {
     "name": "stderr",
     "output_type": "stream",
     "text": [
      "/opt/conda/lib/python3.7/site-packages/pandas/core/indexing.py:1783: SettingWithCopyWarning: \n",
      "A value is trying to be set on a copy of a slice from a DataFrame.\n",
      "Try using .loc[row_indexer,col_indexer] = value instead\n",
      "\n",
      "See the caveats in the documentation: https://pandas.pydata.org/pandas-docs/stable/user_guide/indexing.html#returning-a-view-versus-a-copy\n",
      "  self.obj[item_labels[indexer[info_axis]]] = value\n"
     ]
    }
   ],
   "source": [
    "# Ensure that we are modifying the original DataFrame\n",
    "train.loc[:, 'IDENTITY'] = train['IDENTITY'].fillna('').astype(str).str.upper()\n",
    "valid.loc[:, 'IDENTITY'] = valid['IDENTITY'].fillna('').astype(str).str.upper()\n"
   ]
  },
  {
   "cell_type": "code",
   "execution_count": 14,
   "metadata": {
    "execution": {
     "iopub.execute_input": "2024-11-24T08:14:47.216240Z",
     "iopub.status.busy": "2024-11-24T08:14:47.215899Z",
     "iopub.status.idle": "2024-11-24T08:14:47.220654Z",
     "shell.execute_reply": "2024-11-24T08:14:47.219876Z",
     "shell.execute_reply.started": "2024-11-24T08:14:47.216201Z"
    },
    "trusted": true
   },
   "outputs": [],
   "source": [
    "train.reset_index(inplace = True, drop=True) \n",
    "valid.reset_index(inplace = True, drop=True)"
   ]
  },
  {
   "cell_type": "markdown",
   "metadata": {},
   "source": [
    "# pre-processing data"
   ]
  },
  {
   "cell_type": "code",
   "execution_count": 15,
   "metadata": {
    "execution": {
     "iopub.execute_input": "2024-11-24T08:14:47.222090Z",
     "iopub.status.busy": "2024-11-24T08:14:47.221862Z",
     "iopub.status.idle": "2024-11-24T08:14:47.230127Z",
     "shell.execute_reply": "2024-11-24T08:14:47.229489Z",
     "shell.execute_reply.started": "2024-11-24T08:14:47.222069Z"
    },
    "trusted": true
   },
   "outputs": [],
   "source": [
    "def preprocess(img):\n",
    "    (h, w) = img.shape\n",
    "    \n",
    "    final_img = np.ones([64, 256])*255 \n",
    "    \n",
    "    # crop\n",
    "    if w > 256:\n",
    "        img = img[:, :256]\n",
    "        \n",
    "    if h > 64:\n",
    "        img = img[:64, :]\n",
    "    \n",
    "    \n",
    "    final_img[:h, :w] = img\n",
    "    return cv2.rotate(final_img, cv2.ROTATE_90_CLOCKWISE)"
   ]
  },
  {
   "cell_type": "code",
   "execution_count": 16,
   "metadata": {
    "execution": {
     "iopub.execute_input": "2024-11-24T08:14:47.231576Z",
     "iopub.status.busy": "2024-11-24T08:14:47.231208Z",
     "iopub.status.idle": "2024-11-24T08:14:47.237751Z",
     "shell.execute_reply": "2024-11-24T08:14:47.237015Z",
     "shell.execute_reply.started": "2024-11-24T08:14:47.231544Z"
    },
    "trusted": true
   },
   "outputs": [],
   "source": [
    "train_size = 30000\n",
    "valid_size= 3000"
   ]
  },
  {
   "cell_type": "code",
   "execution_count": 17,
   "metadata": {
    "execution": {
     "iopub.execute_input": "2024-11-24T08:14:47.238851Z",
     "iopub.status.busy": "2024-11-24T08:14:47.238637Z",
     "iopub.status.idle": "2024-11-24T08:18:38.884161Z",
     "shell.execute_reply": "2024-11-24T08:18:38.883524Z",
     "shell.execute_reply.started": "2024-11-24T08:14:47.238819Z"
    },
    "trusted": true
   },
   "outputs": [],
   "source": [
    "train_x = []\n",
    "\n",
    "for i in range(train_size):\n",
    "    img_dir = '/kaggle/input/handwriting-recognition/train_v2/train/'+train.loc[i, 'FILENAME']\n",
    "    image = cv2.imread(img_dir, cv2.IMREAD_GRAYSCALE)\n",
    "    image = preprocess(image)\n",
    "    image = image/255.\n",
    "    train_x.append(image)"
   ]
  },
  {
   "cell_type": "code",
   "execution_count": 18,
   "metadata": {
    "execution": {
     "iopub.execute_input": "2024-11-24T08:18:38.885549Z",
     "iopub.status.busy": "2024-11-24T08:18:38.885277Z",
     "iopub.status.idle": "2024-11-24T08:19:13.003559Z",
     "shell.execute_reply": "2024-11-24T08:19:13.002814Z",
     "shell.execute_reply.started": "2024-11-24T08:18:38.885523Z"
    },
    "trusted": true
   },
   "outputs": [],
   "source": [
    "valid_x = []\n",
    "\n",
    "for i in range(valid_size):\n",
    "    img_dir = '/kaggle/input/handwriting-recognition/validation_v2/validation/'+valid.loc[i, 'FILENAME']\n",
    "    image = cv2.imread(img_dir, cv2.IMREAD_GRAYSCALE)\n",
    "    image = preprocess(image)\n",
    "    image = image/255.\n",
    "    valid_x.append(image)"
   ]
  },
  {
   "cell_type": "code",
   "execution_count": 19,
   "metadata": {
    "execution": {
     "iopub.execute_input": "2024-11-24T08:19:13.004976Z",
     "iopub.status.busy": "2024-11-24T08:19:13.004746Z",
     "iopub.status.idle": "2024-11-24T08:19:14.252848Z",
     "shell.execute_reply": "2024-11-24T08:19:14.252043Z",
     "shell.execute_reply.started": "2024-11-24T08:19:13.004953Z"
    },
    "trusted": true
   },
   "outputs": [],
   "source": [
    "train_x = np.array(train_x).reshape(-1, 256, 64, 1)\n",
    "valid_x = np.array(valid_x).reshape(-1, 256, 64, 1)"
   ]
  },
  {
   "cell_type": "code",
   "execution_count": 20,
   "metadata": {
    "execution": {
     "iopub.execute_input": "2024-11-24T08:19:14.254210Z",
     "iopub.status.busy": "2024-11-24T08:19:14.253965Z",
     "iopub.status.idle": "2024-11-24T08:19:14.260313Z",
     "shell.execute_reply": "2024-11-24T08:19:14.259324Z",
     "shell.execute_reply.started": "2024-11-24T08:19:14.254185Z"
    },
    "trusted": true
   },
   "outputs": [],
   "source": [
    "alphabets = u\"ABCDEFGHIJKLMNOPQRSTUVWXYZ-' \"\n",
    "max_str_len = 24 # max length of input labels\n",
    "num_of_characters = len(alphabets) + 1 # +1 for ctc pseudo blank\n",
    "num_of_timestamps = 64 # max length of predicted labels\n",
    "\n",
    "def label_to_num(label):\n",
    "    label_num = []\n",
    "    for ch in label:\n",
    "        label_num.append(alphabets.find(ch))\n",
    "        \n",
    "    return np.array(label_num)\n",
    "\n",
    "def num_to_label(num):\n",
    "    ret = \"\"\n",
    "    for ch in num:\n",
    "        if ch == -1:  # CTC Blank\n",
    "            break\n",
    "        else:\n",
    "            ret+=alphabets[ch]\n",
    "    return ret"
   ]
  },
  {
   "cell_type": "code",
   "execution_count": 21,
   "metadata": {
    "execution": {
     "iopub.execute_input": "2024-11-24T08:19:14.261673Z",
     "iopub.status.busy": "2024-11-24T08:19:14.261384Z",
     "iopub.status.idle": "2024-11-24T08:19:14.271221Z",
     "shell.execute_reply": "2024-11-24T08:19:14.270633Z",
     "shell.execute_reply.started": "2024-11-24T08:19:14.261631Z"
    },
    "trusted": true
   },
   "outputs": [
    {
     "name": "stdout",
     "output_type": "stream",
     "text": [
      "NUR HIKMAH \n",
      " [13 20 17 28  7  8 10 12  0  7]\n"
     ]
    }
   ],
   "source": [
    "name = 'Team rocket'\n",
    "print(name, '\\n',label_to_num(name))"
   ]
  },
  {
   "cell_type": "code",
   "execution_count": 22,
   "metadata": {
    "execution": {
     "iopub.execute_input": "2024-11-24T08:19:14.272552Z",
     "iopub.status.busy": "2024-11-24T08:19:14.272215Z",
     "iopub.status.idle": "2024-11-24T08:19:15.038429Z",
     "shell.execute_reply": "2024-11-24T08:19:15.037795Z",
     "shell.execute_reply.started": "2024-11-24T08:19:14.272528Z"
    },
    "trusted": true
   },
   "outputs": [],
   "source": [
    "train_y = np.ones([train_size, max_str_len]) * -1\n",
    "train_label_len = np.zeros([train_size, 1])\n",
    "train_input_len = np.ones([train_size, 1]) * (num_of_timestamps-2)\n",
    "train_output = np.zeros([train_size])\n",
    "\n",
    "for i in range(train_size):\n",
    "    train_label_len[i] = len(train.loc[i, 'IDENTITY'])\n",
    "    train_y[i, 0:len(train.loc[i, 'IDENTITY'])]= label_to_num(train.loc[i, 'IDENTITY'])    "
   ]
  },
  {
   "cell_type": "code",
   "execution_count": 23,
   "metadata": {
    "execution": {
     "iopub.execute_input": "2024-11-24T08:19:15.039863Z",
     "iopub.status.busy": "2024-11-24T08:19:15.039627Z",
     "iopub.status.idle": "2024-11-24T08:19:15.196683Z",
     "shell.execute_reply": "2024-11-24T08:19:15.196111Z",
     "shell.execute_reply.started": "2024-11-24T08:19:15.039840Z"
    },
    "trusted": true
   },
   "outputs": [],
   "source": [
    "valid_y = np.ones([valid_size, max_str_len]) * -1\n",
    "valid_label_len = np.zeros([valid_size, 1])\n",
    "valid_input_len = np.ones([valid_size, 1]) * (num_of_timestamps-2)\n",
    "valid_output = np.zeros([valid_size])\n",
    "\n",
    "for i in range(valid_size):\n",
    "    valid_label_len[i] = len(valid.loc[i, 'IDENTITY'])\n",
    "    valid_y[i, 0:len(valid.loc[i, 'IDENTITY'])]= label_to_num(valid.loc[i, 'IDENTITY'])    "
   ]
  },
  {
   "cell_type": "code",
   "execution_count": 24,
   "metadata": {
    "execution": {
     "iopub.execute_input": "2024-11-24T08:19:15.197884Z",
     "iopub.status.busy": "2024-11-24T08:19:15.197666Z",
     "iopub.status.idle": "2024-11-24T08:19:15.203200Z",
     "shell.execute_reply": "2024-11-24T08:19:15.202257Z",
     "shell.execute_reply.started": "2024-11-24T08:19:15.197861Z"
    },
    "trusted": true
   },
   "outputs": [
    {
     "name": "stdout",
     "output_type": "stream",
     "text": [
      "True label :  NOUR \n",
      "train_y :  [13. 14. 20. 17. -1. -1. -1. -1. -1. -1. -1. -1. -1. -1. -1. -1. -1. -1.\n",
      " -1. -1. -1. -1. -1. -1.] \n",
      "train_label_len :  [4.] \n",
      "train_input_len :  [62.]\n"
     ]
    }
   ],
   "source": [
    "print('True label : ',train.loc[100, 'IDENTITY'] , '\\ntrain_y : ',train_y[100],'\\ntrain_label_len : ',train_label_len[100], \n",
    "      '\\ntrain_input_len : ', train_input_len[100])"
   ]
  },
  {
   "cell_type": "markdown",
   "metadata": {},
   "source": [
    "# model building\n"
   ]
  },
  {
   "cell_type": "code",
   "execution_count": 25,
   "metadata": {
    "execution": {
     "iopub.execute_input": "2024-11-24T08:19:15.204653Z",
     "iopub.status.busy": "2024-11-24T08:19:15.204376Z",
     "iopub.status.idle": "2024-11-24T08:19:17.527929Z",
     "shell.execute_reply": "2024-11-24T08:19:17.527144Z",
     "shell.execute_reply.started": "2024-11-24T08:19:15.204615Z"
    },
    "trusted": true
   },
   "outputs": [
    {
     "name": "stdout",
     "output_type": "stream",
     "text": [
      "Model: \"functional_1\"\n",
      "_________________________________________________________________\n",
      "Layer (type)                 Output Shape              Param #   \n",
      "=================================================================\n",
      "input (InputLayer)           [(None, 256, 64, 1)]      0         \n",
      "_________________________________________________________________\n",
      "conv1 (Conv2D)               (None, 256, 64, 32)       320       \n",
      "_________________________________________________________________\n",
      "batch_normalization (BatchNo (None, 256, 64, 32)       128       \n",
      "_________________________________________________________________\n",
      "activation (Activation)      (None, 256, 64, 32)       0         \n",
      "_________________________________________________________________\n",
      "max1 (MaxPooling2D)          (None, 128, 32, 32)       0         \n",
      "_________________________________________________________________\n",
      "conv2 (Conv2D)               (None, 128, 32, 64)       18496     \n",
      "_________________________________________________________________\n",
      "batch_normalization_1 (Batch (None, 128, 32, 64)       256       \n",
      "_________________________________________________________________\n",
      "activation_1 (Activation)    (None, 128, 32, 64)       0         \n",
      "_________________________________________________________________\n",
      "max2 (MaxPooling2D)          (None, 64, 16, 64)        0         \n",
      "_________________________________________________________________\n",
      "dropout (Dropout)            (None, 64, 16, 64)        0         \n",
      "_________________________________________________________________\n",
      "conv3 (Conv2D)               (None, 64, 16, 128)       73856     \n",
      "_________________________________________________________________\n",
      "batch_normalization_2 (Batch (None, 64, 16, 128)       512       \n",
      "_________________________________________________________________\n",
      "activation_2 (Activation)    (None, 64, 16, 128)       0         \n",
      "_________________________________________________________________\n",
      "max3 (MaxPooling2D)          (None, 64, 8, 128)        0         \n",
      "_________________________________________________________________\n",
      "dropout_1 (Dropout)          (None, 64, 8, 128)        0         \n",
      "_________________________________________________________________\n",
      "reshape (Reshape)            (None, 64, 1024)          0         \n",
      "_________________________________________________________________\n",
      "dense1 (Dense)               (None, 64, 64)            65600     \n",
      "_________________________________________________________________\n",
      "lstm1 (Bidirectional)        (None, 64, 512)           657408    \n",
      "_________________________________________________________________\n",
      "lstm2 (Bidirectional)        (None, 64, 512)           1574912   \n",
      "_________________________________________________________________\n",
      "dense2 (Dense)               (None, 64, 30)            15390     \n",
      "_________________________________________________________________\n",
      "softmax (Activation)         (None, 64, 30)            0         \n",
      "=================================================================\n",
      "Total params: 2,406,878\n",
      "Trainable params: 2,406,430\n",
      "Non-trainable params: 448\n",
      "_________________________________________________________________\n"
     ]
    }
   ],
   "source": [
    "# Input layer: expects grayscale images of shape (256, 64, 1)\n",
    "input_data = Input(shape=(256, 64, 1), name='input')\n",
    "\n",
    "# First Convolutional Block\n",
    "inner = Conv2D(32, (3, 3), padding='same', name='conv1', kernel_initializer='he_normal')(input_data)  \n",
    "inner = BatchNormalization()(inner)  \n",
    "inner = Activation('relu')(inner) \n",
    "inner = MaxPooling2D(pool_size=(2, 2), name='max1')(inner)  \n",
    "\n",
    "# Second Convolutional Block\n",
    "inner = Conv2D(64, (3, 3), padding='same', name='conv2', kernel_initializer='he_normal')(inner)  #\n",
    "inner = BatchNormalization()(inner) \n",
    "inner = Activation('relu')(inner)  \n",
    "inner = MaxPooling2D(pool_size=(2, 2), name='max2')(inner) \n",
    "inner = Dropout(0.3)(inner)  \n",
    "\n",
    "# Third Convolutional Block\n",
    "inner = Conv2D(128, (3, 3), padding='same', name='conv3', kernel_initializer='he_normal')(inner)  # 128 filters, 3x3 kernel\n",
    "inner = BatchNormalization()(inner) \n",
    "inner = Activation('relu')(inner)  \n",
    "inner = MaxPooling2D(pool_size=(1, 2), name='max3')(inner)  \n",
    "inner = Dropout(0.3)(inner) \n",
    "\n",
    "# Reshape layer to prepare for RNN input\n",
    "inner = Reshape(target_shape=((64, 1024)), name='reshape')(inner)  # Reshape to (64, 1024)\n",
    "inner = Dense(64, activation='relu', kernel_initializer='he_normal', name='dense1')(inner) \n",
    "\n",
    "# Recurrent Neural Network (RNN) Layers\n",
    "inner = Bidirectional(LSTM(256, return_sequences=True), name='lstm1')(inner)  # Bidirectional LSTM with 256 units, returns sequences\n",
    "inner = Bidirectional(LSTM(256, return_sequences=True), name='lstm2')(inner)  # Another Bidirectional LSTM with 256 units\n",
    "\n",
    "# Output layer\n",
    "inner = Dense(num_of_characters, kernel_initializer='he_normal', name='dense2')(inner) \n",
    "y_pred = Activation('softmax', name='softmax')(inner)  \n",
    "\n",
    "# Model definition\n",
    "model = Model(inputs=input_data, outputs=y_pred)  \n",
    "model.summary() "
   ]
  },
  {
   "cell_type": "markdown",
   "metadata": {},
   "source": [
    "# CTC loss\n",
    "\n"
   ]
  },
  {
   "cell_type": "code",
   "execution_count": null,
   "metadata": {
    "execution": {
     "iopub.execute_input": "2024-11-24T08:19:17.529610Z",
     "iopub.status.busy": "2024-11-24T08:19:17.529249Z",
     "iopub.status.idle": "2024-11-24T08:19:17.534381Z",
     "shell.execute_reply": "2024-11-24T08:19:17.533450Z",
     "shell.execute_reply.started": "2024-11-24T08:19:17.529565Z"
    },
    "trusted": true
   },
   "outputs": [],
   "source": [
    "def ctc_lambda_func(args):\n",
    "    y_pred, labels, input_length, label_length = args\n",
    "    y_pred = y_pred[:, 2:, :]\n",
    "    return K.ctc_batch_cost(labels, y_pred, input_length, label_length)"
   ]
  },
  {
   "cell_type": "code",
   "execution_count": 27,
   "metadata": {
    "execution": {
     "iopub.execute_input": "2024-11-24T08:19:17.536111Z",
     "iopub.status.busy": "2024-11-24T08:19:17.535738Z",
     "iopub.status.idle": "2024-11-24T08:19:17.634353Z",
     "shell.execute_reply": "2024-11-24T08:19:17.633778Z",
     "shell.execute_reply.started": "2024-11-24T08:19:17.536074Z"
    },
    "trusted": true
   },
   "outputs": [],
   "source": [
    "labels = Input(name='gtruth_labels', shape=[max_str_len], dtype='float32')\n",
    "input_length = Input(name='input_length', shape=[1], dtype='int64')\n",
    "label_length = Input(name='label_length', shape=[1], dtype='int64')\n",
    "\n",
    "ctc_loss = Lambda(ctc_lambda_func, output_shape=(1,), name='ctc')([y_pred, labels, input_length, label_length])\n",
    "model_final = Model(inputs=[input_data, labels, input_length, label_length], outputs=ctc_loss)"
   ]
  },
  {
   "cell_type": "markdown",
   "metadata": {},
   "source": [
    "# compile model"
   ]
  },
  {
   "cell_type": "code",
   "execution_count": 28,
   "metadata": {
    "execution": {
     "iopub.execute_input": "2024-11-24T08:19:17.635865Z",
     "iopub.status.busy": "2024-11-24T08:19:17.635534Z",
     "iopub.status.idle": "2024-11-24T08:19:17.649580Z",
     "shell.execute_reply": "2024-11-24T08:19:17.648856Z",
     "shell.execute_reply.started": "2024-11-24T08:19:17.635832Z"
    },
    "trusted": true
   },
   "outputs": [],
   "source": [
    "# the loss calculation occurs elsewhere, so we use a dummy lambda function for the loss\n",
    "model_final.compile(loss={'ctc': lambda y_true, y_pred: y_pred}, optimizer=Adam(lr = 0.0001))"
   ]
  },
  {
   "cell_type": "markdown",
   "metadata": {},
   "source": [
    "# training"
   ]
  },
  {
   "cell_type": "code",
   "execution_count": 29,
   "metadata": {
    "execution": {
     "iopub.execute_input": "2024-11-24T08:19:17.650759Z",
     "iopub.status.busy": "2024-11-24T08:19:17.650560Z",
     "iopub.status.idle": "2024-11-24T08:52:23.826736Z",
     "shell.execute_reply": "2024-11-24T08:52:23.825935Z",
     "shell.execute_reply.started": "2024-11-24T08:19:17.650739Z"
    },
    "trusted": true
   },
   "outputs": [
    {
     "name": "stdout",
     "output_type": "stream",
     "text": [
      "Epoch 1/60\n",
      "235/235 [==============================] - 34s 146ms/step - loss: 24.5923 - val_loss: 20.8157\n",
      "Epoch 2/60\n",
      "235/235 [==============================] - 33s 140ms/step - loss: 20.0926 - val_loss: 20.1258\n",
      "Epoch 3/60\n",
      "235/235 [==============================] - 33s 139ms/step - loss: 19.7169 - val_loss: 19.5593\n",
      "Epoch 4/60\n",
      "235/235 [==============================] - 33s 139ms/step - loss: 19.1403 - val_loss: 18.7735\n",
      "Epoch 5/60\n",
      "235/235 [==============================] - 33s 140ms/step - loss: 18.1168 - val_loss: 18.0592\n",
      "Epoch 6/60\n",
      "235/235 [==============================] - 33s 139ms/step - loss: 16.5599 - val_loss: 15.6201\n",
      "Epoch 7/60\n",
      "235/235 [==============================] - 33s 141ms/step - loss: 14.6154 - val_loss: 13.2679\n",
      "Epoch 8/60\n",
      "235/235 [==============================] - 33s 141ms/step - loss: 12.5493 - val_loss: 11.0170\n",
      "Epoch 9/60\n",
      "235/235 [==============================] - 33s 141ms/step - loss: 10.4718 - val_loss: 8.9708\n",
      "Epoch 10/60\n",
      "235/235 [==============================] - 33s 140ms/step - loss: 8.5410 - val_loss: 7.1095\n",
      "Epoch 11/60\n",
      "235/235 [==============================] - 33s 139ms/step - loss: 7.0128 - val_loss: 6.0565\n",
      "Epoch 12/60\n",
      "235/235 [==============================] - 33s 139ms/step - loss: 6.0597 - val_loss: 5.5447\n",
      "Epoch 13/60\n",
      "235/235 [==============================] - 33s 139ms/step - loss: 5.3762 - val_loss: 5.1307\n",
      "Epoch 14/60\n",
      "235/235 [==============================] - 33s 140ms/step - loss: 4.8489 - val_loss: 4.6933\n",
      "Epoch 15/60\n",
      "235/235 [==============================] - 33s 140ms/step - loss: 4.4635 - val_loss: 4.0445\n",
      "Epoch 16/60\n",
      "235/235 [==============================] - 33s 139ms/step - loss: 4.1216 - val_loss: 3.8304\n",
      "Epoch 17/60\n",
      "235/235 [==============================] - 33s 139ms/step - loss: 3.8495 - val_loss: 3.5771\n",
      "Epoch 18/60\n",
      "235/235 [==============================] - 33s 140ms/step - loss: 3.6274 - val_loss: 3.4413\n",
      "Epoch 19/60\n",
      "235/235 [==============================] - 33s 140ms/step - loss: 3.4521 - val_loss: 3.2234\n",
      "Epoch 20/60\n",
      "235/235 [==============================] - 33s 140ms/step - loss: 3.2711 - val_loss: 3.0840\n",
      "Epoch 21/60\n",
      "235/235 [==============================] - 33s 140ms/step - loss: 3.1199 - val_loss: 2.9736\n",
      "Epoch 22/60\n",
      "235/235 [==============================] - 33s 140ms/step - loss: 2.9933 - val_loss: 2.9094\n",
      "Epoch 23/60\n",
      "235/235 [==============================] - 33s 140ms/step - loss: 2.8812 - val_loss: 2.7352\n",
      "Epoch 24/60\n",
      "235/235 [==============================] - 33s 140ms/step - loss: 2.7838 - val_loss: 2.7313\n",
      "Epoch 25/60\n",
      "235/235 [==============================] - 33s 140ms/step - loss: 2.6853 - val_loss: 2.6164\n",
      "Epoch 26/60\n",
      "235/235 [==============================] - 33s 139ms/step - loss: 2.5997 - val_loss: 2.5609\n",
      "Epoch 27/60\n",
      "235/235 [==============================] - 33s 140ms/step - loss: 2.5096 - val_loss: 2.4856\n",
      "Epoch 28/60\n",
      "235/235 [==============================] - 33s 139ms/step - loss: 2.4323 - val_loss: 2.4370\n",
      "Epoch 29/60\n",
      "235/235 [==============================] - 33s 139ms/step - loss: 2.3596 - val_loss: 2.4014\n",
      "Epoch 30/60\n",
      "235/235 [==============================] - 33s 139ms/step - loss: 2.3019 - val_loss: 2.3607\n",
      "Epoch 31/60\n",
      "235/235 [==============================] - 33s 140ms/step - loss: 2.2474 - val_loss: 2.3661\n",
      "Epoch 32/60\n",
      "235/235 [==============================] - 33s 139ms/step - loss: 2.1828 - val_loss: 2.3155\n",
      "Epoch 33/60\n",
      "235/235 [==============================] - 33s 140ms/step - loss: 2.1352 - val_loss: 2.2965\n",
      "Epoch 34/60\n",
      "235/235 [==============================] - 33s 140ms/step - loss: 2.0839 - val_loss: 2.2549\n",
      "Epoch 35/60\n",
      "235/235 [==============================] - 33s 140ms/step - loss: 2.0458 - val_loss: 2.2154\n",
      "Epoch 36/60\n",
      "235/235 [==============================] - 33s 141ms/step - loss: 1.9832 - val_loss: 2.1950\n",
      "Epoch 37/60\n",
      "235/235 [==============================] - 33s 142ms/step - loss: 1.9495 - val_loss: 2.1855\n",
      "Epoch 38/60\n",
      "235/235 [==============================] - 33s 140ms/step - loss: 1.8929 - val_loss: 2.1774\n",
      "Epoch 39/60\n",
      "235/235 [==============================] - 33s 140ms/step - loss: 1.8752 - val_loss: 2.1811\n",
      "Epoch 40/60\n",
      "235/235 [==============================] - 33s 140ms/step - loss: 1.8145 - val_loss: 2.1307\n",
      "Epoch 41/60\n",
      "235/235 [==============================] - 33s 140ms/step - loss: 1.7955 - val_loss: 2.1253\n",
      "Epoch 42/60\n",
      "235/235 [==============================] - 33s 140ms/step - loss: 1.7486 - val_loss: 2.1030\n",
      "Epoch 43/60\n",
      "235/235 [==============================] - 33s 139ms/step - loss: 1.7067 - val_loss: 2.1233\n",
      "Epoch 44/60\n",
      "235/235 [==============================] - 33s 140ms/step - loss: 1.6815 - val_loss: 2.1315\n",
      "Epoch 45/60\n",
      "235/235 [==============================] - 33s 140ms/step - loss: 1.6431 - val_loss: 2.0898\n",
      "Epoch 46/60\n",
      "235/235 [==============================] - 33s 141ms/step - loss: 1.6137 - val_loss: 2.0535\n",
      "Epoch 47/60\n",
      "235/235 [==============================] - 33s 139ms/step - loss: 1.5696 - val_loss: 2.0661\n",
      "Epoch 48/60\n",
      "235/235 [==============================] - 33s 139ms/step - loss: 1.5485 - val_loss: 2.0652\n",
      "Epoch 49/60\n",
      "235/235 [==============================] - 33s 139ms/step - loss: 1.5188 - val_loss: 2.0581\n",
      "Epoch 50/60\n",
      "235/235 [==============================] - 33s 139ms/step - loss: 1.4883 - val_loss: 2.0800\n",
      "Epoch 51/60\n",
      "235/235 [==============================] - 33s 139ms/step - loss: 1.4574 - val_loss: 2.0635\n",
      "Epoch 52/60\n",
      "235/235 [==============================] - 33s 139ms/step - loss: 1.4298 - val_loss: 2.0671\n",
      "Epoch 53/60\n",
      "235/235 [==============================] - 33s 139ms/step - loss: 1.4088 - val_loss: 2.0632\n",
      "Epoch 54/60\n",
      "235/235 [==============================] - 33s 139ms/step - loss: 1.3703 - val_loss: 2.0361\n",
      "Epoch 55/60\n",
      "235/235 [==============================] - 33s 139ms/step - loss: 1.3513 - val_loss: 2.0391\n",
      "Epoch 56/60\n",
      "235/235 [==============================] - 33s 140ms/step - loss: 1.3168 - val_loss: 2.0900\n",
      "Epoch 57/60\n",
      "235/235 [==============================] - 33s 139ms/step - loss: 1.2866 - val_loss: 2.0537\n",
      "Epoch 58/60\n",
      "235/235 [==============================] - 33s 140ms/step - loss: 1.2673 - val_loss: 2.0574\n",
      "Epoch 59/60\n",
      "235/235 [==============================] - 33s 140ms/step - loss: 1.2385 - val_loss: 2.0427\n",
      "Epoch 60/60\n",
      "235/235 [==============================] - 33s 139ms/step - loss: 1.2101 - val_loss: 2.0429\n"
     ]
    }
   ],
   "source": [
    "with tf.device('/GPU:0'):\n",
    "    history = model_final.fit(x=[train_x, train_y, train_input_len, train_label_len], y=train_output, \n",
    "                          validation_data=([valid_x, valid_y, valid_input_len, valid_label_len], valid_output),\n",
    "                          epochs=60, batch_size=128)"
   ]
  },
  {
   "cell_type": "code",
   "execution_count": 30,
   "metadata": {
    "execution": {
     "iopub.execute_input": "2024-11-24T08:52:23.828735Z",
     "iopub.status.busy": "2024-11-24T08:52:23.828486Z",
     "iopub.status.idle": "2024-11-24T08:52:23.965306Z",
     "shell.execute_reply": "2024-11-24T08:52:23.964345Z",
     "shell.execute_reply.started": "2024-11-24T08:52:23.828711Z"
    },
    "trusted": true
   },
   "outputs": [
    {
     "data": {
      "image/png": "[encoded data removed]",
      "text/plain": [
       "<Figure size 576x360 with 1 Axes>"
      ]
     },
     "metadata": {
      "needs_background": "light"
     },
     "output_type": "display_data"
    }
   ],
   "source": [
    "# Function to plot the training history\n",
    "def plot_training_history(history):\n",
    "    plt.figure(figsize=(8,5))\n",
    "\n",
    "    # Plot training & validation loss values\n",
    "    plt.plot(history.history['loss'])\n",
    "    plt.plot(history.history['val_loss'])\n",
    "    plt.title('Model loss')\n",
    "    plt.ylabel('Loss')\n",
    "    plt.xlabel('Epoch')\n",
    "    plt.legend(['Train', 'Validation'], loc='upper left')\n",
    "    plt.show()\n",
    "\n",
    "# Plot the training history\n",
    "plot_training_history(history)"
   ]
  },
  {
   "cell_type": "markdown",
   "metadata": {},
   "source": [
    "# model performance"
   ]
  },
  {
   "cell_type": "code",
   "execution_count": 31,
   "metadata": {
    "execution": {
     "iopub.execute_input": "2024-11-24T08:52:23.966983Z",
     "iopub.status.busy": "2024-11-24T08:52:23.966652Z",
     "iopub.status.idle": "2024-11-24T08:52:27.108442Z",
     "shell.execute_reply": "2024-11-24T08:52:27.107590Z",
     "shell.execute_reply.started": "2024-11-24T08:52:23.966947Z"
    },
    "trusted": true
   },
   "outputs": [],
   "source": [
    "preds = model.predict(valid_x)\n",
    "decoded = K.get_value(K.ctc_decode(preds, input_length=np.ones(preds.shape[0])*preds.shape[1], \n",
    "                                   greedy=True)[0][0])\n",
    "\n",
    "prediction = []\n",
    "for i in range(valid_size):\n",
    "    prediction.append(num_to_label(decoded[i]))"
   ]
  },
  {
   "cell_type": "code",
   "execution_count": 32,
   "metadata": {
    "execution": {
     "iopub.execute_input": "2024-11-24T08:52:27.113241Z",
     "iopub.status.busy": "2024-11-24T08:52:27.113022Z",
     "iopub.status.idle": "2024-11-24T08:52:27.136464Z",
     "shell.execute_reply": "2024-11-24T08:52:27.135661Z",
     "shell.execute_reply.started": "2024-11-24T08:52:27.113218Z"
    },
    "trusted": true
   },
   "outputs": [
    {
     "name": "stdout",
     "output_type": "stream",
     "text": [
      "Correct characters predicted : 85.90%\n",
      "Correct words predicted      : 73.20%\n"
     ]
    }
   ],
   "source": [
    "y_true = valid.loc[0:valid_size, 'IDENTITY']\n",
    "correct_char = 0\n",
    "total_char = 0\n",
    "correct = 0\n",
    "\n",
    "for i in range(valid_size):\n",
    "    pr = prediction[i]\n",
    "    tr = y_true[i]\n",
    "    total_char += len(tr)\n",
    "    \n",
    "    for j in range(min(len(tr), len(pr))):\n",
    "        if tr[j] == pr[j]:\n",
    "            correct_char += 1\n",
    "            \n",
    "    if pr == tr :\n",
    "        correct += 1 \n",
    "    \n",
    "print('Correct characters predicted : %.2f%%' %(correct_char*100/total_char))\n",
    "print('Correct words predicted      : %.2f%%' %(correct*100/valid_size))"
   ]
  },
  {
   "cell_type": "code",
   "execution_count": null,
   "metadata": {
    "execution": {
     "iopub.execute_input": "2024-11-24T08:52:27.138449Z",
     "iopub.status.busy": "2024-11-24T08:52:27.138069Z",
     "iopub.status.idle": "2024-11-24T08:52:27.239184Z",
     "shell.execute_reply": "2024-11-24T08:52:27.238511Z",
     "shell.execute_reply.started": "2024-11-24T08:52:27.138392Z"
    },
    "trusted": true
   },
   "outputs": [
    {
     "data": {
      "image/png": "[encoded data removed]",
      "text/plain": [
       "<Figure size 576x432 with 1 Axes>"
      ]
     },
     "metadata": {
      "needs_background": "light"
     },
     "output_type": "display_data"
    }
   ],
   "source": [
    "# Calculate accuracy based on character and word level\n",
    "correct_char_percent = correct_char * 100 / total_char\n",
    "correct_word_percent = correct * 100 / valid_size\n",
    "\n",
    "# Plotting the accuracy with custom colors\n",
    "plt.figure(figsize=(8, 6))\n",
    "plt.bar(['Character Accuracy', 'Word Accuracy'], \n",
    "        [correct_char_percent, correct_word_percent], \n",
    "        color=['skyblue', 'lightgreen'])  \n",
    "plt.ylim(0, 100)\n",
    "plt.title('Model Accuracy Evaluation')\n",
    "plt.ylabel('Accuracy (%)')\n",
    "plt.show()"
   ]
  },
  {
   "cell_type": "markdown",
   "metadata": {},
   "source": [
    "# Error rates for letters and words."
   ]
  },
  {
   "cell_type": "code",
   "execution_count": 34,
   "metadata": {
    "execution": {
     "iopub.execute_input": "2024-11-24T08:52:27.240768Z",
     "iopub.status.busy": "2024-11-24T08:52:27.240537Z",
     "iopub.status.idle": "2024-11-24T08:52:27.329157Z",
     "shell.execute_reply": "2024-11-24T08:52:27.328349Z",
     "shell.execute_reply.started": "2024-11-24T08:52:27.240744Z"
    },
    "trusted": true
   },
   "outputs": [
    {
     "name": "stdout",
     "output_type": "stream",
     "text": [
      "Character Error Rate (CER): 7.97%\n",
      "Word Error Rate (WER): 27.47%\n"
     ]
    }
   ],
   "source": [
    "def calculate_cer(gt_texts, pred_texts):\n",
    "    \"\"\"\n",
    "    Calculate the Character Error Rate (CER) between ground truth texts and predicted texts.\n",
    "    \"\"\"\n",
    "    total_errors = 0\n",
    "    total_chars = 0\n",
    "    \n",
    "    for gt, pred in zip(gt_texts, pred_texts):\n",
    "        total_errors += edit_distance(gt, pred)\n",
    "        total_chars += len(gt)\n",
    "    \n",
    "    cer = total_errors / total_chars\n",
    "    return cer\n",
    "\n",
    "def calculate_wer(gt_texts, pred_texts):\n",
    "    \"\"\"\n",
    "    Calculate the Word Error Rate (WER) between ground truth texts and predicted texts.\n",
    "    \"\"\"\n",
    "    total_errors = 0\n",
    "    total_words = 0\n",
    "    \n",
    "    for gt, pred in zip(gt_texts, pred_texts):\n",
    "        total_errors += edit_distance(gt.split(), pred.split())\n",
    "        total_words += len(gt.split())\n",
    "    \n",
    "    wer = total_errors / total_words\n",
    "    return wer\n",
    "\n",
    "def edit_distance(s1, s2):\n",
    "    \n",
    "    if len(s1) < len(s2):\n",
    "        return edit_distance(s2, s1)\n",
    "\n",
    "    if len(s2) == 0:\n",
    "        return len(s1)\n",
    "\n",
    "    previous_row = range(len(s2) + 1)\n",
    "    for i, c1 in enumerate(s1):\n",
    "        current_row = [i + 1]\n",
    "        for j, c2 in enumerate(s2):\n",
    "            insertions = previous_row[j + 1] + 1\n",
    "            deletions = current_row[j] + 1\n",
    "            substitutions = previous_row[j] + (c1 != c2)\n",
    "            current_row.append(min(insertions, deletions, substitutions))\n",
    "        previous_row = current_row\n",
    "    \n",
    "    return previous_row[-1]\n",
    "\n",
    "ground_truths = valid.loc[:valid_size, 'IDENTITY'].tolist()\n",
    "predictions = prediction\n",
    "\n",
    "cer = calculate_cer(ground_truths, predictions)\n",
    "wer = calculate_wer(ground_truths, predictions)\n",
    "\n",
    "print('Character Error Rate (CER): {:.2f}%'.format(cer * 100))\n",
    "print('Word Error Rate (WER): {:.2f}%'.format(wer * 100))"
   ]
  },
  {
   "cell_type": "code",
   "execution_count": 35,
   "metadata": {
    "execution": {
     "iopub.execute_input": "2024-11-24T08:52:27.330486Z",
     "iopub.status.busy": "2024-11-24T08:52:27.330223Z",
     "iopub.status.idle": "2024-11-24T08:52:27.441369Z",
     "shell.execute_reply": "2024-11-24T08:52:27.440623Z",
     "shell.execute_reply.started": "2024-11-24T08:52:27.330459Z"
    },
    "trusted": true
   },
   "outputs": [
    {
     "data": {
      "image/png": "[encoded data removed]",
      "text/plain": [
       "<Figure size 576x432 with 1 Axes>"
      ]
     },
     "metadata": {
      "needs_background": "light"
     },
     "output_type": "display_data"
    }
   ],
   "source": [
    "cer_values = [cer]  # CER value\n",
    "wer_values = [wer]  # WER value\n",
    "labels = ['CER', 'WER']\n",
    "\n",
    "# Plotting\n",
    "plt.figure(figsize=(8, 6))\n",
    "plt.bar(labels, [cer * 100, wer * 100], color=['blue', 'green'])\n",
    "plt.ylim(0, 100)  # Set y-axis limit from 0% to 100%\n",
    "plt.ylabel('Error Rate (%)')\n",
    "plt.title('Character Error Rate (CER) vs Word Error Rate (WER)')\n",
    "plt.xticks(rotation=45)\n",
    "plt.grid(axis='y', linestyle='--', alpha=0.7)\n",
    "for i, v in enumerate([cer * 100, wer * 100]):\n",
    "    plt.text(i, v + 2, f'{v:.2f}%', ha='center', va='bottom', fontsize=10, fontweight='bold')\n",
    "plt.show()"
   ]
  },
  {
   "cell_type": "markdown",
   "metadata": {},
   "source": [
    "# model testing"
   ]
  },
  {
   "cell_type": "code",
   "execution_count": 36,
   "metadata": {
    "execution": {
     "iopub.execute_input": "2024-11-24T08:52:27.443092Z",
     "iopub.status.busy": "2024-11-24T08:52:27.442760Z",
     "iopub.status.idle": "2024-11-24T08:52:28.098272Z",
     "shell.execute_reply": "2024-11-24T08:52:28.097515Z",
     "shell.execute_reply.started": "2024-11-24T08:52:27.443057Z"
    },
    "trusted": true
   },
   "outputs": [
    {
     "data": {
      "image/png": "[encoded data removed]",
      "text/plain": [
       "<Figure size 1080x720 with 6 Axes>"
      ]
     },
     "metadata": {
      "needs_background": "light"
     },
     "output_type": "display_data"
    }
   ],
   "source": [
    "test = pd.read_csv('/kaggle/input/handwriting-recognition/written_name_test_v2.csv')\n",
    "\n",
    "plt.figure(figsize=(15, 10))\n",
    "for i in range(100,106):\n",
    "    ax = plt.subplot(2, 3, i - 100 + 1)\n",
    "    img_dir = '/kaggle/input/handwriting-recognition/test_v2/test/'+test.loc[i, 'FILENAME']\n",
    "    image = cv2.imread(img_dir, cv2.IMREAD_GRAYSCALE)\n",
    "    plt.imshow(image, cmap='gray')\n",
    "    \n",
    "    image = preprocess(image)\n",
    "    image = image/255.\n",
    "    pred = model.predict(image.reshape(1, 256, 64, 1))\n",
    "    decoded = K.get_value(K.ctc_decode(pred, input_length=np.ones(pred.shape[0])*pred.shape[1], \n",
    "                                       greedy=True)[0][0])\n",
    "    plt.title(num_to_label(decoded[0]), fontsize=12)\n",
    "    plt.axis('off')\n",
    "    \n",
    "plt.subplots_adjust(wspace=0.2, hspace=-0.8)"
   ]
  },
  {
   "cell_type": "code",
   "execution_count": 37,
   "metadata": {
    "execution": {
     "iopub.execute_input": "2024-11-24T08:52:28.099741Z",
     "iopub.status.busy": "2024-11-24T08:52:28.099484Z",
     "iopub.status.idle": "2024-11-24T08:52:28.211913Z",
     "shell.execute_reply": "2024-11-24T08:52:28.211253Z",
     "shell.execute_reply.started": "2024-11-24T08:52:28.099715Z"
    },
    "trusted": true
   },
   "outputs": [
    {
     "data": {
      "text/plain": [
       "<matplotlib.image.AxesImage at 0x7b600e983dd0>"
      ]
     },
     "execution_count": 37,
     "metadata": {},
     "output_type": "execute_result"
    },
    {
     "data": {
      "image/png": "[encoded data removed]",
      "text/plain": [
       "<Figure size 432x288 with 1 Axes>"
      ]
     },
     "metadata": {
      "needs_background": "light"
     },
     "output_type": "display_data"
    }
   ],
   "source": [
    "im = cv2.imread('/kaggle/input/handwriting-recognition/test_v2/test/TEST_0020.jpg', cv2.IMREAD_GRAYSCALE)\n",
    "im = preprocess(im)\n",
    "plt.imshow(image, cmap='gray')\n"
   ]
  },
  {
   "cell_type": "code",
   "execution_count": 38,
   "metadata": {
    "execution": {
     "iopub.execute_input": "2024-11-24T08:52:28.213293Z",
     "iopub.status.busy": "2024-11-24T08:52:28.213082Z",
     "iopub.status.idle": "2024-11-24T08:52:28.259997Z",
     "shell.execute_reply": "2024-11-24T08:52:28.259200Z",
     "shell.execute_reply.started": "2024-11-24T08:52:28.213266Z"
    },
    "trusted": true
   },
   "outputs": [
    {
     "data": {
      "text/plain": [
       "'VERDEAUX'"
      ]
     },
     "execution_count": 38,
     "metadata": {},
     "output_type": "execute_result"
    }
   ],
   "source": [
    "pred = model.predict(image.reshape(1, 256, 64, 1))\n",
    "decoded = K.get_value(K.ctc_decode(pred, input_length=np.ones(pred.shape[0])*pred.shape[1], \n",
    "                                       greedy=True)[0][0])\n",
    "num_to_label(decoded[0])"
   ]
  },
  {
   "cell_type": "markdown",
   "metadata": {},
   "source": [
    "# save model"
   ]
  },
  {
   "cell_type": "code",
   "execution_count": 39,
   "metadata": {
    "execution": {
     "iopub.execute_input": "2024-11-24T08:52:28.261564Z",
     "iopub.status.busy": "2024-11-24T08:52:28.261210Z",
     "iopub.status.idle": "2024-11-24T08:52:28.375901Z",
     "shell.execute_reply": "2024-11-24T08:52:28.375251Z",
     "shell.execute_reply.started": "2024-11-24T08:52:28.261521Z"
    },
    "trusted": true
   },
   "outputs": [],
   "source": [
    "model_final.save('best_model.h5')"
   ]
  }
 ],
 "metadata": {
  "kaggle": {
   "accelerator": "gpu",
   "dataSources": [
    {
     "datasetId": 818027,
     "sourceId": 1400106,
     "sourceType": "datasetVersion"
    },
    {
     "datasetId": 1094263,
     "sourceId": 1840441,
     "sourceType": "datasetVersion"
    }
   ],
   "dockerImageVersionId": 29995,
   "isGpuEnabled": true,
   "isInternetEnabled": false,
   "language": "python",
   "sourceType": "notebook"
  },
  "kernelspec": {
   "display_name": "Python 3",
   "language": "python",
   "name": "python3"
  },
  "language_info": {
   "codemirror_mode": {
    "name": "ipython",
    "version": 3
   },
   "file_extension": ".py",
   "mimetype": "text/x-python",
   "name": "python",
   "nbconvert_exporter": "python",
   "pygments_lexer": "ipython3",
   "version": "3.7.6"
  }
 },
 "nbformat": 4,
 "nbformat_minor": 4
}
